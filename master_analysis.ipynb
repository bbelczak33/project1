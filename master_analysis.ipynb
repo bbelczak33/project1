{
 "cells": [
  {
   "cell_type": "code",
   "execution_count": null,
   "metadata": {},
   "outputs": [],
   "source": [
    "import pandas as pd\n",
    "import numpy as np\n",
    "\n",
    "# Define the number of rows and columns in the DataFrame\n",
    "num_rows = 5\n",
    "num_columns = 3\n",
    "\n",
    "# Create a DataFrame with random numbers using NumPy\n",
    "data = np.random.rand(num_rows, num_columns)\n",
    "\n",
    "# Create column names (you can customize these)\n",
    "column_names = ['Column1', 'Column2', 'Column3']\n",
    "\n",
    "# Create the DataFrame\n",
    "df = pd.DataFrame(data, columns=column_names)\n",
    "\n",
    "df.to_csv('final_data.csv', index=False)"
   ]
  }
 ],
 "metadata": {
  "language_info": {
   "name": "python"
  },
  "orig_nbformat": 4
 },
 "nbformat": 4,
 "nbformat_minor": 2
}
